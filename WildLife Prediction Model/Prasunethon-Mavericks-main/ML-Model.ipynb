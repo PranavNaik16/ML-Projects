{
 "cells": [
  {
   "cell_type": "code",
   "execution_count": 43,
   "id": "f5b1cb2b-1cdf-4084-a224-3469ed5f091c",
   "metadata": {},
   "outputs": [],
   "source": [
    "#Importing the required libraries\n",
    "import pandas as pd\n",
    "from sklearn.model_selection import train_test_split\n",
    "from sklearn.preprocessing import StandardScaler\n",
    "from sklearn.linear_model import LogisticRegression\n",
    "from sklearn.metrics import classification_report, confusion_matrix, accuracy_score, roc_curve, roc_auc_score\n",
    "import warnings\n",
    "warnings.filterwarnings(\"ignore\")"
   ]
  },
  {
   "cell_type": "code",
   "execution_count": 19,
   "id": "dff25ebf-7063-416e-a79e-5cded16b762a",
   "metadata": {
    "scrolled": true
   },
   "outputs": [
    {
     "data": {
      "text/html": [
       "<div>\n",
       "<style scoped>\n",
       "    .dataframe tbody tr th:only-of-type {\n",
       "        vertical-align: middle;\n",
       "    }\n",
       "\n",
       "    .dataframe tbody tr th {\n",
       "        vertical-align: top;\n",
       "    }\n",
       "\n",
       "    .dataframe thead th {\n",
       "        text-align: right;\n",
       "    }\n",
       "</style>\n",
       "<table border=\"1\" class=\"dataframe\">\n",
       "  <thead>\n",
       "    <tr style=\"text-align: right;\">\n",
       "      <th></th>\n",
       "      <th>year_month</th>\n",
       "      <th>average_temperature_median</th>\n",
       "      <th>maximum_temperature_median</th>\n",
       "      <th>minimum_temperature_median</th>\n",
       "      <th>precipitation_lag_median</th>\n",
       "      <th>snow_depth_lag_median</th>\n",
       "      <th>wind_speed_lag_median</th>\n",
       "      <th>maximum_sustained_wind_speed_lag_median</th>\n",
       "      <th>wind_gust_lag_median</th>\n",
       "      <th>dew_point_lag_median</th>\n",
       "      <th>fog_lag_mean</th>\n",
       "      <th>thunder_lag_mean</th>\n",
       "      <th>lat_lag_median</th>\n",
       "      <th>lon_lag_median</th>\n",
       "      <th>is_fire</th>\n",
       "    </tr>\n",
       "  </thead>\n",
       "  <tbody>\n",
       "    <tr>\n",
       "      <th>0</th>\n",
       "      <td>2013-01</td>\n",
       "      <td>55.614471</td>\n",
       "      <td>64.960743</td>\n",
       "      <td>44.885953</td>\n",
       "      <td>0.011162</td>\n",
       "      <td>999.900000</td>\n",
       "      <td>7.991097</td>\n",
       "      <td>13.838489</td>\n",
       "      <td>956.092650</td>\n",
       "      <td>41.105964</td>\n",
       "      <td>0</td>\n",
       "      <td>0</td>\n",
       "      <td>32.669667</td>\n",
       "      <td>-6.103159</td>\n",
       "      <td>1</td>\n",
       "    </tr>\n",
       "    <tr>\n",
       "      <th>1</th>\n",
       "      <td>2013-02</td>\n",
       "      <td>54.778911</td>\n",
       "      <td>66.249974</td>\n",
       "      <td>42.401767</td>\n",
       "      <td>1.201047</td>\n",
       "      <td>999.899998</td>\n",
       "      <td>7.141677</td>\n",
       "      <td>20.923666</td>\n",
       "      <td>920.017515</td>\n",
       "      <td>52.711859</td>\n",
       "      <td>0</td>\n",
       "      <td>0</td>\n",
       "      <td>32.641867</td>\n",
       "      <td>-6.160246</td>\n",
       "      <td>0</td>\n",
       "    </tr>\n",
       "    <tr>\n",
       "      <th>2</th>\n",
       "      <td>2013-03</td>\n",
       "      <td>59.054068</td>\n",
       "      <td>68.776137</td>\n",
       "      <td>48.846444</td>\n",
       "      <td>1.082615</td>\n",
       "      <td>999.900009</td>\n",
       "      <td>9.067693</td>\n",
       "      <td>16.035876</td>\n",
       "      <td>822.054271</td>\n",
       "      <td>46.756065</td>\n",
       "      <td>0</td>\n",
       "      <td>0</td>\n",
       "      <td>32.383879</td>\n",
       "      <td>-6.408526</td>\n",
       "      <td>0</td>\n",
       "    </tr>\n",
       "    <tr>\n",
       "      <th>3</th>\n",
       "      <td>2013-04</td>\n",
       "      <td>65.017165</td>\n",
       "      <td>75.533435</td>\n",
       "      <td>53.436463</td>\n",
       "      <td>0.502933</td>\n",
       "      <td>999.900011</td>\n",
       "      <td>7.435010</td>\n",
       "      <td>15.745283</td>\n",
       "      <td>892.987485</td>\n",
       "      <td>49.527429</td>\n",
       "      <td>1</td>\n",
       "      <td>0</td>\n",
       "      <td>32.524870</td>\n",
       "      <td>-6.464255</td>\n",
       "      <td>0</td>\n",
       "    </tr>\n",
       "    <tr>\n",
       "      <th>4</th>\n",
       "      <td>2013-05</td>\n",
       "      <td>65.352257</td>\n",
       "      <td>76.215955</td>\n",
       "      <td>53.523060</td>\n",
       "      <td>0.252309</td>\n",
       "      <td>999.900019</td>\n",
       "      <td>8.493570</td>\n",
       "      <td>17.927379</td>\n",
       "      <td>865.032257</td>\n",
       "      <td>59.992219</td>\n",
       "      <td>0</td>\n",
       "      <td>0</td>\n",
       "      <td>32.973982</td>\n",
       "      <td>-5.748396</td>\n",
       "      <td>0</td>\n",
       "    </tr>\n",
       "  </tbody>\n",
       "</table>\n",
       "</div>"
      ],
      "text/plain": [
       "  year_month  average_temperature_median  maximum_temperature_median  \\\n",
       "0    2013-01                   55.614471                   64.960743   \n",
       "1    2013-02                   54.778911                   66.249974   \n",
       "2    2013-03                   59.054068                   68.776137   \n",
       "3    2013-04                   65.017165                   75.533435   \n",
       "4    2013-05                   65.352257                   76.215955   \n",
       "\n",
       "   minimum_temperature_median  precipitation_lag_median  \\\n",
       "0                   44.885953                  0.011162   \n",
       "1                   42.401767                  1.201047   \n",
       "2                   48.846444                  1.082615   \n",
       "3                   53.436463                  0.502933   \n",
       "4                   53.523060                  0.252309   \n",
       "\n",
       "   snow_depth_lag_median  wind_speed_lag_median  \\\n",
       "0             999.900000               7.991097   \n",
       "1             999.899998               7.141677   \n",
       "2             999.900009               9.067693   \n",
       "3             999.900011               7.435010   \n",
       "4             999.900019               8.493570   \n",
       "\n",
       "   maximum_sustained_wind_speed_lag_median  wind_gust_lag_median  \\\n",
       "0                                13.838489            956.092650   \n",
       "1                                20.923666            920.017515   \n",
       "2                                16.035876            822.054271   \n",
       "3                                15.745283            892.987485   \n",
       "4                                17.927379            865.032257   \n",
       "\n",
       "   dew_point_lag_median  fog_lag_mean  thunder_lag_mean  lat_lag_median  \\\n",
       "0             41.105964             0                 0       32.669667   \n",
       "1             52.711859             0                 0       32.641867   \n",
       "2             46.756065             0                 0       32.383879   \n",
       "3             49.527429             1                 0       32.524870   \n",
       "4             59.992219             0                 0       32.973982   \n",
       "\n",
       "   lon_lag_median  is_fire  \n",
       "0       -6.103159        1  \n",
       "1       -6.160246        0  \n",
       "2       -6.408526        0  \n",
       "3       -6.464255        0  \n",
       "4       -5.748396        0  "
      ]
     },
     "execution_count": 19,
     "metadata": {},
     "output_type": "execute_result"
    }
   ],
   "source": [
    "df = pd.read_csv(r\"D:\\AISSMS IOIT - AI&DS (628299510)\\General\\Hackathons\\Prasunethon\\2. Feature_Extraction-Dataset.csv\")\n",
    "df.head()"
   ]
  },
  {
   "cell_type": "markdown",
   "id": "44c7793c-7ea0-4de3-b1c3-9ba554b06190",
   "metadata": {},
   "source": [
    "## Extracting \"year_month\" and creating new features"
   ]
  },
  {
   "cell_type": "code",
   "execution_count": 20,
   "id": "1927a0fc-edc2-4c1e-9b4c-73354d5d53f2",
   "metadata": {},
   "outputs": [],
   "source": [
    "df['year'] = pd.to_datetime(df['year_month']).dt.year\n",
    "df['month'] = pd.to_datetime(df['year_month']).dt.month"
   ]
  },
  {
   "cell_type": "code",
   "execution_count": 21,
   "id": "42767c35-9c22-423a-bd25-54e86c5d0fbe",
   "metadata": {},
   "outputs": [],
   "source": [
    "df = df.drop(columns=['year_month'])"
   ]
  },
  {
   "cell_type": "markdown",
   "id": "e1b91fc6-8257-4864-b8ed-89f46e1ae17e",
   "metadata": {},
   "source": [
    "## Seperating Features and target"
   ]
  },
  {
   "cell_type": "code",
   "execution_count": 22,
   "id": "adf4d78f-5448-4974-96cd-bfc48024899f",
   "metadata": {},
   "outputs": [
    {
     "name": "stdout",
     "output_type": "stream",
     "text": [
      "Index(['average_temperature_median', 'maximum_temperature_median',\n",
      "       'minimum_temperature_median', 'precipitation_lag_median',\n",
      "       'snow_depth_lag_median', 'wind_speed_lag_median',\n",
      "       'maximum_sustained_wind_speed_lag_median', 'wind_gust_lag_median',\n",
      "       'dew_point_lag_median', 'fog_lag_mean', 'thunder_lag_mean',\n",
      "       'lat_lag_median', 'lon_lag_median', 'is_fire', 'year', 'month'],\n",
      "      dtype='object')\n"
     ]
    }
   ],
   "source": [
    "print(df.columns)"
   ]
  },
  {
   "cell_type": "code",
   "execution_count": 23,
   "id": "60883f16-47ac-4f16-a969-38ff656a2ee9",
   "metadata": {},
   "outputs": [],
   "source": [
    "X = df[['year', 'month', 'average_temperature_median', 'maximum_temperature_median', 'minimum_temperature_median',\n",
    "        'precipitation_lag_median', 'snow_depth_lag_median', 'wind_speed_lag_median', 'maximum_sustained_wind_speed_lag_median',\n",
    "        'wind_gust_lag_median', 'dew_point_lag_median', 'fog_lag_mean', 'thunder_lag_mean', 'lat_lag_median', 'lon_lag_median']]\n",
    "y = df['is_fire']"
   ]
  },
  {
   "cell_type": "markdown",
   "id": "ba14bdb3-412c-4150-8b96-d93b49128b15",
   "metadata": {},
   "source": [
    "## Training and Testing Set"
   ]
  },
  {
   "cell_type": "code",
   "execution_count": 24,
   "id": "f9e7e96d-697c-4433-b61e-aff2f41eaf7e",
   "metadata": {},
   "outputs": [],
   "source": [
    "X_train, X_test, y_train, y_test = train_test_split(X, y, test_size=0.2, random_state=42)\n",
    "scaler = StandardScaler()\n",
    "X_train_scaled = scaler.fit_transform(X_train)\n",
    "X_test_scaled = scaler.transform(X_test)"
   ]
  },
  {
   "cell_type": "markdown",
   "id": "602c90f9-2576-40ea-93ab-0b467dfa1c98",
   "metadata": {},
   "source": [
    "## Intializing and training the logistic regression model"
   ]
  },
  {
   "cell_type": "code",
   "execution_count": 25,
   "id": "ab746246-a3fe-436f-8db7-612d791b62d2",
   "metadata": {},
   "outputs": [
    {
     "data": {
      "text/html": [
       "<style>#sk-container-id-2 {color: black;background-color: white;}#sk-container-id-2 pre{padding: 0;}#sk-container-id-2 div.sk-toggleable {background-color: white;}#sk-container-id-2 label.sk-toggleable__label {cursor: pointer;display: block;width: 100%;margin-bottom: 0;padding: 0.3em;box-sizing: border-box;text-align: center;}#sk-container-id-2 label.sk-toggleable__label-arrow:before {content: \"▸\";float: left;margin-right: 0.25em;color: #696969;}#sk-container-id-2 label.sk-toggleable__label-arrow:hover:before {color: black;}#sk-container-id-2 div.sk-estimator:hover label.sk-toggleable__label-arrow:before {color: black;}#sk-container-id-2 div.sk-toggleable__content {max-height: 0;max-width: 0;overflow: hidden;text-align: left;background-color: #f0f8ff;}#sk-container-id-2 div.sk-toggleable__content pre {margin: 0.2em;color: black;border-radius: 0.25em;background-color: #f0f8ff;}#sk-container-id-2 input.sk-toggleable__control:checked~div.sk-toggleable__content {max-height: 200px;max-width: 100%;overflow: auto;}#sk-container-id-2 input.sk-toggleable__control:checked~label.sk-toggleable__label-arrow:before {content: \"▾\";}#sk-container-id-2 div.sk-estimator input.sk-toggleable__control:checked~label.sk-toggleable__label {background-color: #d4ebff;}#sk-container-id-2 div.sk-label input.sk-toggleable__control:checked~label.sk-toggleable__label {background-color: #d4ebff;}#sk-container-id-2 input.sk-hidden--visually {border: 0;clip: rect(1px 1px 1px 1px);clip: rect(1px, 1px, 1px, 1px);height: 1px;margin: -1px;overflow: hidden;padding: 0;position: absolute;width: 1px;}#sk-container-id-2 div.sk-estimator {font-family: monospace;background-color: #f0f8ff;border: 1px dotted black;border-radius: 0.25em;box-sizing: border-box;margin-bottom: 0.5em;}#sk-container-id-2 div.sk-estimator:hover {background-color: #d4ebff;}#sk-container-id-2 div.sk-parallel-item::after {content: \"\";width: 100%;border-bottom: 1px solid gray;flex-grow: 1;}#sk-container-id-2 div.sk-label:hover label.sk-toggleable__label {background-color: #d4ebff;}#sk-container-id-2 div.sk-serial::before {content: \"\";position: absolute;border-left: 1px solid gray;box-sizing: border-box;top: 0;bottom: 0;left: 50%;z-index: 0;}#sk-container-id-2 div.sk-serial {display: flex;flex-direction: column;align-items: center;background-color: white;padding-right: 0.2em;padding-left: 0.2em;position: relative;}#sk-container-id-2 div.sk-item {position: relative;z-index: 1;}#sk-container-id-2 div.sk-parallel {display: flex;align-items: stretch;justify-content: center;background-color: white;position: relative;}#sk-container-id-2 div.sk-item::before, #sk-container-id-2 div.sk-parallel-item::before {content: \"\";position: absolute;border-left: 1px solid gray;box-sizing: border-box;top: 0;bottom: 0;left: 50%;z-index: -1;}#sk-container-id-2 div.sk-parallel-item {display: flex;flex-direction: column;z-index: 1;position: relative;background-color: white;}#sk-container-id-2 div.sk-parallel-item:first-child::after {align-self: flex-end;width: 50%;}#sk-container-id-2 div.sk-parallel-item:last-child::after {align-self: flex-start;width: 50%;}#sk-container-id-2 div.sk-parallel-item:only-child::after {width: 0;}#sk-container-id-2 div.sk-dashed-wrapped {border: 1px dashed gray;margin: 0 0.4em 0.5em 0.4em;box-sizing: border-box;padding-bottom: 0.4em;background-color: white;}#sk-container-id-2 div.sk-label label {font-family: monospace;font-weight: bold;display: inline-block;line-height: 1.2em;}#sk-container-id-2 div.sk-label-container {text-align: center;}#sk-container-id-2 div.sk-container {/* jupyter's `normalize.less` sets `[hidden] { display: none; }` but bootstrap.min.css set `[hidden] { display: none !important; }` so we also need the `!important` here to be able to override the default hidden behavior on the sphinx rendered scikit-learn.org. See: https://github.com/scikit-learn/scikit-learn/issues/21755 */display: inline-block !important;position: relative;}#sk-container-id-2 div.sk-text-repr-fallback {display: none;}</style><div id=\"sk-container-id-2\" class=\"sk-top-container\"><div class=\"sk-text-repr-fallback\"><pre>LogisticRegression(random_state=42)</pre><b>In a Jupyter environment, please rerun this cell to show the HTML representation or trust the notebook. <br />On GitHub, the HTML representation is unable to render, please try loading this page with nbviewer.org.</b></div><div class=\"sk-container\" hidden><div class=\"sk-item\"><div class=\"sk-estimator sk-toggleable\"><input class=\"sk-toggleable__control sk-hidden--visually\" id=\"sk-estimator-id-2\" type=\"checkbox\" checked><label for=\"sk-estimator-id-2\" class=\"sk-toggleable__label sk-toggleable__label-arrow\">LogisticRegression</label><div class=\"sk-toggleable__content\"><pre>LogisticRegression(random_state=42)</pre></div></div></div></div></div>"
      ],
      "text/plain": [
       "LogisticRegression(random_state=42)"
      ]
     },
     "execution_count": 25,
     "metadata": {},
     "output_type": "execute_result"
    }
   ],
   "source": [
    "model = LogisticRegression(random_state=42)\n",
    "model.fit(X_train_scaled, y_train)"
   ]
  },
  {
   "cell_type": "markdown",
   "id": "cc507be2-aa98-4774-843a-e6a493783fba",
   "metadata": {},
   "source": [
    "## Predictions on test set"
   ]
  },
  {
   "cell_type": "code",
   "execution_count": 26,
   "id": "a08263e8-8d76-41f6-833b-e04fde0d79ab",
   "metadata": {},
   "outputs": [],
   "source": [
    "y_pred = model.predict(X_test_scaled)"
   ]
  },
  {
   "cell_type": "code",
   "execution_count": 34,
   "id": "478fa0b3-c7c5-47d6-93d1-08d8827fa951",
   "metadata": {},
   "outputs": [
    {
     "name": "stdout",
     "output_type": "stream",
     "text": [
      "\n",
      "Predictions:\n",
      "[1 0 1 1 1 1 1 0 0 0 1 0 0 1 1 1 0 0 0 1 1 1 1 0]\n"
     ]
    }
   ],
   "source": [
    "print(\"\\nPredictions:\")\n",
    "print(y_pred)"
   ]
  },
  {
   "cell_type": "markdown",
   "id": "61d5e096-79e7-4e31-8930-c9fd8ef9aa1c",
   "metadata": {},
   "source": [
    "## Model Evaluation"
   ]
  },
  {
   "cell_type": "code",
   "execution_count": 33,
   "id": "a86cce2d-788e-4821-bb73-41b8ffaaf7c0",
   "metadata": {},
   "outputs": [
    {
     "name": "stdout",
     "output_type": "stream",
     "text": [
      "Confusion Matrix:\n",
      "[[ 8  1]\n",
      " [ 2 13]]\n"
     ]
    }
   ],
   "source": [
    "print(\"Confusion Matrix:\")\n",
    "print(confusion_matrix(y_test, y_pred))"
   ]
  },
  {
   "cell_type": "code",
   "execution_count": 42,
   "id": "b423cb0f-6ff1-4933-b8c6-0aa61d76616f",
   "metadata": {},
   "outputs": [
    {
     "data": {
      "text/plain": [
       "<Axes: >"
      ]
     },
     "execution_count": 42,
     "metadata": {},
     "output_type": "execute_result"
    },
    {
     "data": {
      "image/png": "[encoded data removed]",
      "text/plain": [
       "<Figure size 500x400 with 2 Axes>"
      ]
     },
     "metadata": {},
     "output_type": "display_data"
    }
   ],
   "source": [
    "cm = confusion_matrix(y_test, y_pred, labels = model.classes_)\n",
    "plt.figure(figsize = (5, 4))\n",
    "sns.heatmap(cm, annot = True, xticklabels = model.classes_, yticklabels = model.classes_)"
   ]
  },
  {
   "cell_type": "code",
   "execution_count": 30,
   "id": "dd8a454b-5f20-40e5-8c0f-a55630eac829",
   "metadata": {},
   "outputs": [
    {
     "name": "stdout",
     "output_type": "stream",
     "text": [
      "\n",
      "Classification Report:\n",
      "              precision    recall  f1-score   support\n",
      "\n",
      "           0       0.80      0.89      0.84         9\n",
      "           1       0.93      0.87      0.90        15\n",
      "\n",
      "    accuracy                           0.88        24\n",
      "   macro avg       0.86      0.88      0.87        24\n",
      "weighted avg       0.88      0.88      0.88        24\n",
      "\n"
     ]
    }
   ],
   "source": [
    "print(\"\\nClassification Report:\")\n",
    "print(classification_report(y_test, y_pred))"
   ]
  },
  {
   "cell_type": "code",
   "execution_count": 32,
   "id": "55339e5a-4f94-4cf4-900d-42cb9d8f3d16",
   "metadata": {},
   "outputs": [
    {
     "name": "stdout",
     "output_type": "stream",
     "text": [
      "Accuracy: 0.875\n"
     ]
    }
   ],
   "source": [
    "print(\"Accuracy:\", accuracy_score(y_test, y_pred))"
   ]
  },
  {
   "cell_type": "code",
   "execution_count": 36,
   "id": "bd4893d6-ff52-45dc-8346-6339377af979",
   "metadata": {},
   "outputs": [
    {
     "data": {
      "text/plain": [
       "array([0., 1.])"
      ]
     },
     "execution_count": 36,
     "metadata": {},
     "output_type": "execute_result"
    }
   ],
   "source": [
    "y_test_prob_positve = y_test_prob[: , 1]\n",
    "fpr, tpr, thresholds = roc_curve(y_test, y_test_prob_positve)\n",
    "fpr"
   ]
  },
  {
   "cell_type": "code",
   "execution_count": 37,
   "id": "7bf84287-4c4c-43c7-872d-b7957e6491ad",
   "metadata": {},
   "outputs": [
    {
     "data": {
      "image/png": "[encoded data removed]",
      "text/plain": [
       "<Figure size 640x480 with 1 Axes>"
      ]
     },
     "metadata": {},
     "output_type": "display_data"
    }
   ],
   "source": [
    "def plot_roc_curve(fpr,tpr):\n",
    "    plt.plot(fpr,tpr,color = \"orange\", label = \"ROC\")\n",
    "    \n",
    "    # Plot line with no predictive power(baseline)\n",
    "    plt.plot([0, 1], [0, 1], color = \"darkblue\", linestyle = \"--\", label = \"Guessing\")\n",
    "    \n",
    "    plt.xlabel(\"False Positive Rate(fpr)\")\n",
    "    plt.ylabel(\"True Positive Rate(tpr)\")\n",
    "    plt.title(\"Reciever Operating Characteristics(ROC) Curve\")\n",
    "    \n",
    "plot_roc_curve(fpr,tpr)"
   ]
  },
  {
   "cell_type": "code",
   "execution_count": 39,
   "id": "db772e5d-7310-40a8-be47-036b15b07ac7",
   "metadata": {},
   "outputs": [
    {
     "data": {
      "text/plain": [
       "0.5"
      ]
     },
     "execution_count": 39,
     "metadata": {},
     "output_type": "execute_result"
    }
   ],
   "source": [
    "roc_auc_score(y_test, y_test_prob_positve)"
   ]
  },
  {
   "cell_type": "code",
   "execution_count": 44,
   "id": "c3069f0a-733f-48fe-ad73-10061edf730f",
   "metadata": {},
   "outputs": [
    {
     "name": "stdout",
     "output_type": "stream",
     "text": [
      "Accuracy Score: 0.625\n"
     ]
    }
   ],
   "source": [
    "print(\"Accuracy Score:\", model.score(X_test, y_test))"
   ]
  },
  {
   "cell_type": "markdown",
   "id": "5ec9309d-9aac-4ef4-89b3-effcd4425ebb",
   "metadata": {},
   "source": [
    "# Termination\n",
    "Model has been built and evaluated.  \n",
    "Next steps include model deployment"
   ]
  }
 ],
 "metadata": {
  "kernelspec": {
   "display_name": "Python 3 (ipykernel)",
   "language": "python",
   "name": "python3"
  },
  "language_info": {
   "codemirror_mode": {
    "name": "ipython",
    "version": 3
   },
   "file_extension": ".py",
   "mimetype": "text/x-python",
   "name": "python",
   "nbconvert_exporter": "python",
   "pygments_lexer": "ipython3",
   "version": "3.11.5"
  }
 },
 "nbformat": 4,
 "nbformat_minor": 5
}
